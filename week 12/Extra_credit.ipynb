{
  "nbformat": 4,
  "nbformat_minor": 0,
  "metadata": {
    "colab": {
      "provenance": []
    },
    "kernelspec": {
      "name": "python3",
      "display_name": "Python 3"
    },
    "language_info": {
      "name": "python"
    }
  },
  "cells": [
    {
      "cell_type": "code",
      "execution_count": 1,
      "metadata": {
        "colab": {
          "base_uri": "https://localhost:8080/"
        },
        "id": "srvTPquwPGBJ",
        "outputId": "35bdc7d2-1a99-4634-ad0b-d736130d3b02"
      },
      "outputs": [
        {
          "output_type": "stream",
          "name": "stdout",
          "text": [
            "Downloading data from https://storage.googleapis.com/tensorflow/tf-keras-datasets/mnist.npz\n",
            "\u001b[1m11490434/11490434\u001b[0m \u001b[32m━━━━━━━━━━━━━━━━━━━━\u001b[0m\u001b[37m\u001b[0m \u001b[1m0s\u001b[0m 0us/step\n"
          ]
        },
        {
          "output_type": "stream",
          "name": "stderr",
          "text": [
            "/usr/local/lib/python3.11/dist-packages/keras/src/layers/convolutional/base_conv.py:107: UserWarning: Do not pass an `input_shape`/`input_dim` argument to a layer. When using Sequential models, prefer using an `Input(shape)` object as the first layer in the model instead.\n",
            "  super().__init__(activity_regularizer=activity_regularizer, **kwargs)\n"
          ]
        },
        {
          "output_type": "stream",
          "name": "stdout",
          "text": [
            "Epoch 1/5\n",
            "844/844 - 50s - 59ms/step - accuracy: 0.9411 - loss: 0.1922 - val_accuracy: 0.9818 - val_loss: 0.0711\n",
            "Epoch 2/5\n",
            "844/844 - 44s - 52ms/step - accuracy: 0.9843 - loss: 0.0507 - val_accuracy: 0.9872 - val_loss: 0.0424\n",
            "Epoch 3/5\n",
            "844/844 - 83s - 98ms/step - accuracy: 0.9886 - loss: 0.0360 - val_accuracy: 0.9890 - val_loss: 0.0376\n",
            "Epoch 4/5\n",
            "844/844 - 82s - 98ms/step - accuracy: 0.9907 - loss: 0.0288 - val_accuracy: 0.9895 - val_loss: 0.0358\n",
            "Epoch 5/5\n",
            "844/844 - 83s - 98ms/step - accuracy: 0.9925 - loss: 0.0238 - val_accuracy: 0.9892 - val_loss: 0.0409\n",
            "313/313 - 3s - 9ms/step - accuracy: 0.9882 - loss: 0.0372\n",
            "Test accuracy: 0.9882\n",
            "Total time: 341.78 seconds\n"
          ]
        }
      ],
      "source": [
        "# Convolutional Neural Network Example using Keras\n",
        "\n",
        "import tensorflow as tf\n",
        "from tensorflow.keras import layers, models\n",
        "from tensorflow.keras.datasets import mnist\n",
        "from tensorflow.keras.utils import to_categorical\n",
        "import time\n",
        "\n",
        "# Load and preprocess MNIST dataset\n",
        "(x_train, y_train), (x_test, y_test) = mnist.load_data()\n",
        "x_train = x_train.reshape((60000, 28, 28, 1)).astype('float32') / 255\n",
        "x_test = x_test.reshape((10000, 28, 28, 1)).astype('float32') / 255\n",
        "y_train = to_categorical(y_train)\n",
        "y_test = to_categorical(y_test)\n",
        "\n",
        "# Define CNN model\n",
        "model = models.Sequential()\n",
        "model.add(layers.Conv2D(32, (3, 3), activation='relu', input_shape=(28, 28, 1)))\n",
        "model.add(layers.MaxPooling2D((2, 2)))\n",
        "model.add(layers.Conv2D(64, (3, 3), activation='relu'))\n",
        "model.add(layers.MaxPooling2D((2, 2)))\n",
        "model.add(layers.Conv2D(64, (3, 3), activation='relu'))\n",
        "model.add(layers.Flatten())\n",
        "model.add(layers.Dense(64, activation='relu'))\n",
        "model.add(layers.Dense(10, activation='softmax'))\n",
        "\n",
        "# Compile model\n",
        "model.compile(optimizer='adam',\n",
        "              loss='categorical_crossentropy',\n",
        "              metrics=['accuracy'])\n",
        "\n",
        "# Train model\n",
        "start_time = time.time()\n",
        "history = model.fit(x_train, y_train, epochs=5, batch_size=64,\n",
        "                    validation_split=0.1, verbose=2)\n",
        "end_time = time.time()\n",
        "\n",
        "# Evaluate model\n",
        "test_loss, test_acc = model.evaluate(x_test, y_test, verbose=2)\n",
        "print(f\"Test accuracy: {test_acc:.4f}\")\n",
        "print(f\"Total time: {end_time - start_time:.2f} seconds\")\n"
      ]
    }
  ]
}
{
 "cells": [
  {
   "cell_type": "code",
   "execution_count": 1,
   "id": "c39203af-3751-4d41-9e5d-9b022e3e618a",
   "metadata": {},
   "outputs": [],
   "source": [
    "import pandas as pd\n",
    "from sklearn.model_selection import train_test_split, StratifiedKFold\n",
    "from sklearn.dummy import DummyClassifier\n",
    "from sklearn.neighbors import KNeighborsClassifier\n",
    "from sklearn.metrics import accuracy_score, precision_score, recall_score\n"
   ]
  },
  {
   "cell_type": "code",
   "execution_count": 2,
   "id": "e46c1a25-1dcf-49ad-a964-ab253ce1a1b0",
   "metadata": {},
   "outputs": [],
   "source": [
    "def extract_X_Y(df):\n",
    "    X = df[['x', 'y']]\n",
    "    Y = df['result']\n",
    "    return X, Y\n"
   ]
  },
  {
   "cell_type": "code",
   "execution_count": 6,
   "id": "b506133f-0ac0-46c1-ade7-aaa7728036a4",
   "metadata": {},
   "outputs": [],
   "source": [
    "def retrain_classifier(data_path, classifier_type='knn', k=15):\n",
    "    \"\"\"\n",
    "    Retrains a model using KNN or Dummy with stratification.\n",
    "\n",
    "    Parameters:\n",
    "    - data_path (str): Path to the CSV file\n",
    "    - classifier_type (str): 'knn' or 'dummy'\n",
    "    - k (int): Number of neighbors if KNN is used\n",
    "\n",
    "    Returns:\n",
    "    - dict: accuracy, recall, precision\n",
    "    \"\"\"\n",
    "    df = pd.read_csv(data_path)\n",
    "    X, Y = extract_X_Y(df)\n",
    "\n",
    "    # Stratified split\n",
    "    X_train, X_test, y_train, y_test = train_test_split(\n",
    "        X, Y, test_size=0.33, stratify=Y, random_state=42\n",
    "    )\n",
    "\n",
    "    # Choose classifier\n",
    "    if classifier_type == 'dummy':\n",
    "        clf = DummyClassifier(strategy='most_frequent')\n",
    "    elif classifier_type == 'knn':\n",
    "        clf = KNeighborsClassifier(n_neighbors=k)\n",
    "    else:\n",
    "        raise ValueError(\"classifier_type must be 'knn' or 'dummy'\")\n",
    "\n",
    "    # Train and evaluate\n",
    "    clf.fit(X_train, y_train)\n",
    "    y_pred = clf.predict(X_test)\n",
    "\n",
    "    return {\n",
    "        \"accuracy\": accuracy_score(y_test, y_pred),\n",
    "        \"recall\": recall_score(y_test, y_pred),\n",
    "        \"precision\": precision_score(y_test, y_pred)\n",
    "    }\n"
   ]
  },
  {
   "cell_type": "code",
   "execution_count": 7,
   "id": "f445dccb-9912-492d-87af-96ea02ec0ee7",
   "metadata": {},
   "outputs": [
    {
     "name": "stdout",
     "output_type": "stream",
     "text": [
      "=== Results for first.csv ===\n",
      "KNN: {'accuracy': 0.9090909090909091, 'recall': 0.8982035928143712, 'precision': 0.9202453987730062}\n",
      "Dummy: {'accuracy': 0.5060606060606061, 'recall': 1.0, 'precision': 0.5060606060606061}\n",
      "\n",
      "=== Results for second.csv ===\n",
      "KNN: {'accuracy': 0.9121212121212121, 'recall': 0.926829268292683, 'precision': 0.8994082840236687}\n",
      "Dummy: {'accuracy': 0.503030303030303, 'recall': 0.0, 'precision': 0.0}\n",
      "\n",
      "=== Results for third.csv ===\n"
     ]
    },
    {
     "name": "stderr",
     "output_type": "stream",
     "text": [
      "C:\\Users\\crazy\\AppData\\Local\\Programs\\Python\\Python313\\Lib\\site-packages\\sklearn\\metrics\\_classification.py:1565: UndefinedMetricWarning: Precision is ill-defined and being set to 0.0 due to no predicted samples. Use `zero_division` parameter to control this behavior.\n",
      "  _warn_prf(average, modifier, f\"{metric.capitalize()} is\", len(result))\n",
      "C:\\Users\\crazy\\AppData\\Local\\Programs\\Python\\Python313\\Lib\\site-packages\\sklearn\\metrics\\_classification.py:1565: UndefinedMetricWarning: Precision is ill-defined and being set to 0.0 due to no predicted samples. Use `zero_division` parameter to control this behavior.\n",
      "  _warn_prf(average, modifier, f\"{metric.capitalize()} is\", len(result))\n"
     ]
    },
    {
     "name": "stdout",
     "output_type": "stream",
     "text": [
      "KNN: {'accuracy': 0.9606060606060606, 'recall': 0.8484848484848485, 'precision': 0.9491525423728814}\n",
      "Dummy: {'accuracy': 0.8, 'recall': 0.0, 'precision': 0.0}\n",
      "\n",
      "=== Results for fourth.csv ===\n",
      "KNN: {'accuracy': 0.9606060606060606, 'recall': 0.9135802469135802, 'precision': 0.925}\n",
      "Dummy: {'accuracy': 0.7545454545454545, 'recall': 0.0, 'precision': 0.0}\n",
      "\n"
     ]
    },
    {
     "name": "stderr",
     "output_type": "stream",
     "text": [
      "C:\\Users\\crazy\\AppData\\Local\\Programs\\Python\\Python313\\Lib\\site-packages\\sklearn\\metrics\\_classification.py:1565: UndefinedMetricWarning: Precision is ill-defined and being set to 0.0 due to no predicted samples. Use `zero_division` parameter to control this behavior.\n",
      "  _warn_prf(average, modifier, f\"{metric.capitalize()} is\", len(result))\n"
     ]
    }
   ],
   "source": [
    "datasets = [\"first.csv\", \"second.csv\", \"third.csv\", \"fourth.csv\"]\n",
    "\n",
    "for file in datasets:\n",
    "    print(f\"=== Results for {file} ===\")\n",
    "    print(\"KNN:\", retrain_classifier(file, classifier_type=\"knn\"))\n",
    "    print(\"Dummy:\", retrain_classifier(file, classifier_type=\"dummy\"))\n",
    "    print()\n"
   ]
  },
  {
   "cell_type": "code",
   "execution_count": null,
   "id": "b37f623c-a3bc-412a-8198-047f33ed6832",
   "metadata": {},
   "outputs": [],
   "source": []
  }
 ],
 "metadata": {
  "kernelspec": {
   "display_name": "Python 3 (ipykernel)",
   "language": "python",
   "name": "python3"
  },
  "language_info": {
   "codemirror_mode": {
    "name": "ipython",
    "version": 3
   },
   "file_extension": ".py",
   "mimetype": "text/x-python",
   "name": "python",
   "nbconvert_exporter": "python",
   "pygments_lexer": "ipython3",
   "version": "3.13.2"
  }
 },
 "nbformat": 4,
 "nbformat_minor": 5
}

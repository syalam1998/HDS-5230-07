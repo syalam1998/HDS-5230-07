{
  "nbformat": 4,
  "nbformat_minor": 0,
  "metadata": {
    "colab": {
      "provenance": []
    },
    "kernelspec": {
      "name": "python3",
      "display_name": "Python 3"
    },
    "language_info": {
      "name": "python"
    }
  },
  "cells": [
    {
      "cell_type": "code",
      "execution_count": 4,
      "metadata": {
        "colab": {
          "base_uri": "https://localhost:8080/"
        },
        "id": "iMCy-n0jG75v",
        "outputId": "016b66b2-cf46-4231-e51c-693daf302310"
      },
      "outputs": [
        {
          "output_type": "stream",
          "name": "stdout",
          "text": [
            "         7206 function calls in 0.006 seconds\n",
            "\n",
            "   Ordered by: standard name\n",
            "\n",
            "   ncalls  tottime  percall  cumtime  percall filename:lineno(function)\n",
            "        1    0.002    0.002    0.006    0.006 <ipython-input-4-153035fb324e>:10(pairwise_distance_loop)\n",
            "        1    0.000    0.000    0.006    0.006 <string>:1(<module>)\n",
            "      900    0.000    0.000    0.000    0.000 linalg.py:140(isComplexType)\n",
            "      900    0.000    0.000    0.000    0.000 linalg.py:2379(_norm_dispatcher)\n",
            "      900    0.002    0.000    0.004    0.000 linalg.py:2383(norm)\n",
            "        1    0.000    0.000    0.006    0.006 {built-in method builtins.exec}\n",
            "     1800    0.000    0.000    0.000    0.000 {built-in method builtins.issubclass}\n",
            "        1    0.000    0.000    0.000    0.000 {built-in method builtins.len}\n",
            "      900    0.000    0.000    0.000    0.000 {built-in method numpy.asarray}\n",
            "        1    0.000    0.000    0.000    0.000 {built-in method numpy.zeros}\n",
            "        1    0.000    0.000    0.000    0.000 {method 'disable' of '_lsprof.Profiler' objects}\n",
            "      900    0.001    0.000    0.001    0.000 {method 'dot' of 'numpy.ndarray' objects}\n",
            "      900    0.000    0.000    0.000    0.000 {method 'ravel' of 'numpy.ndarray' objects}\n",
            "\n",
            "\n",
            "         12 function calls in 0.014 seconds\n",
            "\n",
            "   Ordered by: standard name\n",
            "\n",
            "   ncalls  tottime  percall  cumtime  percall filename:lineno(function)\n",
            "        1    0.000    0.000    0.013    0.013 <ipython-input-4-153035fb324e>:18(pairwise_distance_numpy)\n",
            "        1    0.000    0.000    0.013    0.013 <string>:1(<module>)\n",
            "        1    0.000    0.000    0.000    0.000 linalg.py:2379(_norm_dispatcher)\n",
            "        1    0.000    0.000    0.013    0.013 linalg.py:2383(norm)\n",
            "        1    0.000    0.000    0.014    0.014 {built-in method builtins.exec}\n",
            "        1    0.000    0.000    0.000    0.000 {built-in method builtins.isinstance}\n",
            "        1    0.000    0.000    0.000    0.000 {built-in method builtins.issubclass}\n",
            "        1    0.000    0.000    0.000    0.000 {built-in method builtins.len}\n",
            "        1    0.000    0.000    0.000    0.000 {built-in method numpy.asarray}\n",
            "        1    0.000    0.000    0.000    0.000 {method 'conj' of 'numpy.ndarray' objects}\n",
            "        1    0.000    0.000    0.000    0.000 {method 'disable' of '_lsprof.Profiler' objects}\n",
            "        1    0.013    0.013    0.013    0.013 {method 'reduce' of 'numpy.ufunc' objects}\n",
            "\n",
            "\n",
            "         14 function calls in 0.000 seconds\n",
            "\n",
            "   Ordered by: standard name\n",
            "\n",
            "   ncalls  tottime  percall  cumtime  percall filename:lineno(function)\n",
            "        1    0.000    0.000    0.000    0.000 <ipython-input-4-153035fb324e>:21(pairwise_distance_scipy)\n",
            "        1    0.000    0.000    0.000    0.000 <string>:1(<module>)\n",
            "        1    0.000    0.000    0.000    0.000 distance.py:2649(cdist)\n",
            "        1    0.000    0.000    0.000    0.000 {built-in method builtins.callable}\n",
            "        1    0.000    0.000    0.000    0.000 {built-in method builtins.exec}\n",
            "        1    0.000    0.000    0.000    0.000 {built-in method builtins.isinstance}\n",
            "        2    0.000    0.000    0.000    0.000 {built-in method builtins.len}\n",
            "        2    0.000    0.000    0.000    0.000 {built-in method numpy.asarray}\n",
            "        1    0.000    0.000    0.000    0.000 {built-in method scipy.spatial._distance_pybind.cdist_euclidean}\n",
            "        1    0.000    0.000    0.000    0.000 {method 'disable' of '_lsprof.Profiler' objects}\n",
            "        1    0.000    0.000    0.000    0.000 {method 'get' of 'dict' objects}\n",
            "        1    0.000    0.000    0.000    0.000 {method 'lower' of 'str' objects}\n",
            "\n",
            "\n"
          ]
        }
      ],
      "source": [
        "import pandas as pd\n",
        "import numpy as np\n",
        "from math import radians, sin, cos, sqrt, atan2\n",
        "import cProfile\n",
        "from scipy.spatial.distance import cdist\n",
        "file_path = \"clinics.xlsx\"\n",
        "df = pd.read_excel(file_path, sheet_name=\"Results\")\n",
        "df.head()\n",
        "coords = df[['locLat', 'locLong']].dropna().to_numpy()\n",
        "def pairwise_distance_loop(coords):\n",
        "    n = len(coords)\n",
        "    dist_matrix = np.zeros((n, n))\n",
        "    for i in range(n):\n",
        "        for j in range(n):\n",
        "            dist_matrix[i, j] = np.linalg.norm(coords[i] - coords[j])\n",
        "    return dist_matrix\n",
        "cProfile.run('pairwise_distance_loop(coords)')\n",
        "def pairwise_distance_numpy(coords):\n",
        "    return np.linalg.norm(coords[:, np.newaxis] - coords, axis=2)\n",
        "cProfile.run('pairwise_distance_numpy(coords)')\n",
        "def pairwise_distance_scipy(coords):\n",
        "    return cdist(coords, coords, metric='euclidean')\n",
        "cProfile.run('pairwise_distance_scipy(coords)')\n"
      ]
    }
  ]
}
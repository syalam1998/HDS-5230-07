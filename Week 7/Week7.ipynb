{
 "cells": [
  {
   "cell_type": "code",
   "execution_count": 0,
   "metadata": {
    "application/vnd.databricks.v1+cell": {
     "cellMetadata": {
      "byteLimit": 2048000,
      "rowLimit": 10000
     },
     "inputWidgets": {},
     "nuid": "7b5c9abb-94e7-4adf-826b-64fd06c5078e",
     "showTitle": false,
     "tableResultSettingsMap": {},
     "title": ""
    }
   },
   "outputs": [
    {
     "output_type": "stream",
     "name": "stdout",
     "output_type": "stream",
     "text": [
      "root\n |-- Change_Type: string (nullable = true)\n |-- Covered_Recipient_Type: string (nullable = true)\n |-- Noncovered_Recipient_Entity_Name: string (nullable = true)\n |-- Teaching_Hospital_CCN: string (nullable = true)\n |-- Teaching_Hospital_ID: string (nullable = true)\n |-- Teaching_Hospital_Name: string (nullable = true)\n |-- Covered_Recipient_Profile_ID: integer (nullable = true)\n |-- Covered_Recipient_NPI: string (nullable = true)\n |-- Covered_Recipient_First_Name: string (nullable = true)\n |-- Covered_Recipient_Middle_Name: string (nullable = true)\n |-- Covered_Recipient_Last_Name: string (nullable = true)\n |-- Covered_Recipient_Name_Suffix: string (nullable = true)\n |-- Recipient_Primary_Business_Street_Address_Line1: string (nullable = true)\n |-- Recipient_Primary_Business_Street_Address_Line2: string (nullable = true)\n |-- Recipient_City: string (nullable = true)\n |-- Recipient_State: string (nullable = true)\n |-- Recipient_Zip_Code: string (nullable = true)\n |-- Recipient_Country: string (nullable = true)\n |-- Recipient_Province: string (nullable = true)\n |-- Recipient_Postal_Code: string (nullable = true)\n |-- Covered_Recipient_Primary_Type_1: string (nullable = true)\n |-- Covered_Recipient_Primary_Type_2: string (nullable = true)\n |-- Covered_Recipient_Primary_Type_3: string (nullable = true)\n |-- Covered_Recipient_Primary_Type_4: string (nullable = true)\n |-- Covered_Recipient_Primary_Type_5: string (nullable = true)\n |-- Covered_Recipient_Primary_Type_6: string (nullable = true)\n |-- Covered_Recipient_Specialty_1: string (nullable = true)\n |-- Covered_Recipient_Specialty_2: integer (nullable = true)\n |-- Covered_Recipient_Specialty_3: string (nullable = true)\n |-- Covered_Recipient_Specialty_4: string (nullable = true)\n |-- Covered_Recipient_Specialty_5: string (nullable = true)\n |-- Covered_Recipient_Specialty_6: string (nullable = true)\n |-- Covered_Recipient_License_State_code1: string (nullable = true)\n |-- Covered_Recipient_License_State_code2: string (nullable = true)\n |-- Covered_Recipient_License_State_code3: string (nullable = true)\n |-- Covered_Recipient_License_State_code4: string (nullable = true)\n |-- Covered_Recipient_License_State_code5: string (nullable = true)\n |-- Principal_Investigator_1_Covered_Recipient_Type: string (nullable = true)\n |-- Principal_Investigator_1_Profile_ID: string (nullable = true)\n |-- Principal_Investigator_1_NPI: integer (nullable = true)\n |-- Principal_Investigator_1_First_Name: string (nullable = true)\n |-- Principal_Investigator_1_Middle_Name: string (nullable = true)\n |-- Principal_Investigator_1_Last_Name: string (nullable = true)\n |-- Principal_Investigator_1_Name_Suffix: string (nullable = true)\n |-- Principal_Investigator_1_Business_Street_Address_Line1: string (nullable = true)\n |-- Principal_Investigator_1_Business_Street_Address_Line2: string (nullable = true)\n |-- Principal_Investigator_1_City: string (nullable = true)\n |-- Principal_Investigator_1_State: string (nullable = true)\n |-- Principal_Investigator_1_Zip_Code: string (nullable = true)\n |-- Principal_Investigator_1_Country: string (nullable = true)\n |-- Principal_Investigator_1_Province: string (nullable = true)\n |-- Principal_Investigator_1_Postal_Code: string (nullable = true)\n |-- Principal_Investigator_1_Primary_Type_1: string (nullable = true)\n |-- Principal_Investigator_1_Primary_Type_2: string (nullable = true)\n |-- Principal_Investigator_1_Primary_Type_3: string (nullable = true)\n |-- Principal_Investigator_1_Primary_Type_4: string (nullable = true)\n |-- Principal_Investigator_1_Primary_Type_5: string (nullable = true)\n |-- Principal_Investigator_1_Primary_Type_6: string (nullable = true)\n |-- Principal_Investigator_1_Specialty_1: string (nullable = true)\n |-- Principal_Investigator_1_Specialty_2: string (nullable = true)\n |-- Principal_Investigator_1_Specialty_3: string (nullable = true)\n |-- Principal_Investigator_1_Specialty_4: string (nullable = true)\n |-- Principal_Investigator_1_Specialty_5: string (nullable = true)\n |-- Principal_Investigator_1_Specialty_6: string (nullable = true)\n |-- Principal_Investigator_1_License_State_code1: string (nullable = true)\n |-- Principal_Investigator_1_License_State_code2: string (nullable = true)\n |-- Principal_Investigator_1_License_State_code3: string (nullable = true)\n |-- Principal_Investigator_1_License_State_code4: string (nullable = true)\n |-- Principal_Investigator_1_License_State_code5: string (nullable = true)\n |-- Principal_Investigator_2_Covered_Recipient_Type: string (nullable = true)\n |-- Principal_Investigator_2_Profile_ID: integer (nullable = true)\n |-- Principal_Investigator_2_NPI: integer (nullable = true)\n |-- Principal_Investigator_2_First_Name: string (nullable = true)\n |-- Principal_Investigator_2_Middle_Name: string (nullable = true)\n |-- Principal_Investigator_2_Last_Name: string (nullable = true)\n |-- Principal_Investigator_2_Name_Suffix: string (nullable = true)\n |-- Principal_Investigator_2_Business_Street_Address_Line1: string (nullable = true)\n |-- Principal_Investigator_2_Business_Street_Address_Line2: string (nullable = true)\n |-- Principal_Investigator_2_City: string (nullable = true)\n |-- Principal_Investigator_2_State: string (nullable = true)\n |-- Principal_Investigator_2_Zip_Code: string (nullable = true)\n |-- Principal_Investigator_2_Country: string (nullable = true)\n |-- Principal_Investigator_2_Province: string (nullable = true)\n |-- Principal_Investigator_2_Postal_Code: string (nullable = true)\n |-- Principal_Investigator_2_Primary_Type_1: string (nullable = true)\n |-- Principal_Investigator_2_Primary_Type_2: string (nullable = true)\n |-- Principal_Investigator_2_Primary_Type_3: string (nullable = true)\n |-- Principal_Investigator_2_Primary_Type_4: string (nullable = true)\n |-- Principal_Investigator_2_Primary_Type_5: string (nullable = true)\n |-- Principal_Investigator_2_Primary_Type_6: string (nullable = true)\n |-- Principal_Investigator_2_Specialty_1: string (nullable = true)\n |-- Principal_Investigator_2_Specialty_2: string (nullable = true)\n |-- Principal_Investigator_2_Specialty_3: string (nullable = true)\n |-- Principal_Investigator_2_Specialty_4: string (nullable = true)\n |-- Principal_Investigator_2_Specialty_5: string (nullable = true)\n |-- Principal_Investigator_2_Specialty_6: string (nullable = true)\n |-- Principal_Investigator_2_License_State_code1: string (nullable = true)\n |-- Principal_Investigator_2_License_State_code2: string (nullable = true)\n |-- Principal_Investigator_2_License_State_code3: string (nullable = true)\n |-- Principal_Investigator_2_License_State_code4: string (nullable = true)\n |-- Principal_Investigator_2_License_State_code5: string (nullable = true)\n |-- Principal_Investigator_3_Covered_Recipient_Type: string (nullable = true)\n |-- Principal_Investigator_3_Profile_ID: integer (nullable = true)\n |-- Principal_Investigator_3_NPI: integer (nullable = true)\n |-- Principal_Investigator_3_First_Name: string (nullable = true)\n |-- Principal_Investigator_3_Middle_Name: string (nullable = true)\n |-- Principal_Investigator_3_Last_Name: string (nullable = true)\n |-- Principal_Investigator_3_Name_Suffix: string (nullable = true)\n |-- Principal_Investigator_3_Business_Street_Address_Line1: string (nullable = true)\n |-- Principal_Investigator_3_Business_Street_Address_Line2: string (nullable = true)\n |-- Principal_Investigator_3_City: string (nullable = true)\n |-- Principal_Investigator_3_State: string (nullable = true)\n |-- Principal_Investigator_3_Zip_Code: string (nullable = true)\n |-- Principal_Investigator_3_Country: string (nullable = true)\n |-- Principal_Investigator_3_Province: string (nullable = true)\n |-- Principal_Investigator_3_Postal_Code: string (nullable = true)\n |-- Principal_Investigator_3_Primary_Type_1: string (nullable = true)\n |-- Principal_Investigator_3_Primary_Type_2: string (nullable = true)\n |-- Principal_Investigator_3_Primary_Type_3: string (nullable = true)\n |-- Principal_Investigator_3_Primary_Type_4: string (nullable = true)\n |-- Principal_Investigator_3_Primary_Type_5: string (nullable = true)\n |-- Principal_Investigator_3_Primary_Type_6: string (nullable = true)\n |-- Principal_Investigator_3_Specialty_1: string (nullable = true)\n |-- Principal_Investigator_3_Specialty_2: string (nullable = true)\n |-- Principal_Investigator_3_Specialty_3: string (nullable = true)\n |-- Principal_Investigator_3_Specialty_4: string (nullable = true)\n |-- Principal_Investigator_3_Specialty_5: string (nullable = true)\n |-- Principal_Investigator_3_Specialty_6: string (nullable = true)\n |-- Principal_Investigator_3_License_State_code1: string (nullable = true)\n |-- Principal_Investigator_3_License_State_code2: string (nullable = true)\n |-- Principal_Investigator_3_License_State_code3: string (nullable = true)\n |-- Principal_Investigator_3_License_State_code4: string (nullable = true)\n |-- Principal_Investigator_3_License_State_code5: string (nullable = true)\n |-- Principal_Investigator_4_Covered_Recipient_Type: string (nullable = true)\n |-- Principal_Investigator_4_Profile_ID: integer (nullable = true)\n |-- Principal_Investigator_4_NPI: integer (nullable = true)\n |-- Principal_Investigator_4_First_Name: string (nullable = true)\n |-- Principal_Investigator_4_Middle_Name: string (nullable = true)\n |-- Principal_Investigator_4_Last_Name: string (nullable = true)\n |-- Principal_Investigator_4_Name_Suffix: string (nullable = true)\n |-- Principal_Investigator_4_Business_Street_Address_Line1: string (nullable = true)\n |-- Principal_Investigator_4_Business_Street_Address_Line2: string (nullable = true)\n |-- Principal_Investigator_4_City: string (nullable = true)\n |-- Principal_Investigator_4_State: string (nullable = true)\n |-- Principal_Investigator_4_Zip_Code: string (nullable = true)\n |-- Principal_Investigator_4_Country: string (nullable = true)\n |-- Principal_Investigator_4_Province: string (nullable = true)\n |-- Principal_Investigator_4_Postal_Code: string (nullable = true)\n |-- Principal_Investigator_4_Primary_Type_1: string (nullable = true)\n |-- Principal_Investigator_4_Primary_Type_2: string (nullable = true)\n |-- Principal_Investigator_4_Primary_Type_3: string (nullable = true)\n |-- Principal_Investigator_4_Primary_Type_4: string (nullable = true)\n |-- Principal_Investigator_4_Primary_Type_5: string (nullable = true)\n |-- Principal_Investigator_4_Primary_Type_6: string (nullable = true)\n |-- Principal_Investigator_4_Specialty_1: string (nullable = true)\n |-- Principal_Investigator_4_Specialty_2: string (nullable = true)\n |-- Principal_Investigator_4_Specialty_3: string (nullable = true)\n |-- Principal_Investigator_4_Specialty_4: string (nullable = true)\n |-- Principal_Investigator_4_Specialty_5: string (nullable = true)\n |-- Principal_Investigator_4_Specialty_6: string (nullable = true)\n |-- Principal_Investigator_4_License_State_code1: string (nullable = true)\n |-- Principal_Investigator_4_License_State_code2: string (nullable = true)\n |-- Principal_Investigator_4_License_State_code3: string (nullable = true)\n |-- Principal_Investigator_4_License_State_code4: string (nullable = true)\n |-- Principal_Investigator_4_License_State_code5: string (nullable = true)\n |-- Principal_Investigator_5_Covered_Recipient_Type: string (nullable = true)\n |-- Principal_Investigator_5_Profile_ID: integer (nullable = true)\n |-- Principal_Investigator_5_NPI: integer (nullable = true)\n |-- Principal_Investigator_5_First_Name: string (nullable = true)\n |-- Principal_Investigator_5_Middle_Name: string (nullable = true)\n |-- Principal_Investigator_5_Last_Name: string (nullable = true)\n |-- Principal_Investigator_5_Name_Suffix: string (nullable = true)\n |-- Principal_Investigator_5_Business_Street_Address_Line1: string (nullable = true)\n |-- Principal_Investigator_5_Business_Street_Address_Line2: string (nullable = true)\n |-- Principal_Investigator_5_City: string (nullable = true)\n |-- Principal_Investigator_5_State: string (nullable = true)\n |-- Principal_Investigator_5_Zip_Code: string (nullable = true)\n |-- Principal_Investigator_5_Country: string (nullable = true)\n |-- Principal_Investigator_5_Province: string (nullable = true)\n |-- Principal_Investigator_5_Postal_Code: string (nullable = true)\n |-- Principal_Investigator_5_Primary_Type_1: string (nullable = true)\n |-- Principal_Investigator_5_Primary_Type_2: string (nullable = true)\n |-- Principal_Investigator_5_Primary_Type_3: string (nullable = true)\n |-- Principal_Investigator_5_Primary_Type_4: string (nullable = true)\n |-- Principal_Investigator_5_Primary_Type_5: string (nullable = true)\n |-- Principal_Investigator_5_Primary_Type_6: string (nullable = true)\n |-- Principal_Investigator_5_Specialty_1: string (nullable = true)\n |-- Principal_Investigator_5_Specialty_2: string (nullable = true)\n |-- Principal_Investigator_5_Specialty_3: string (nullable = true)\n |-- Principal_Investigator_5_Specialty_4: string (nullable = true)\n |-- Principal_Investigator_5_Specialty_5: string (nullable = true)\n |-- Principal_Investigator_5_Specialty_6: string (nullable = true)\n |-- Principal_Investigator_5_License_State_code1: string (nullable = true)\n |-- Principal_Investigator_5_License_State_code2: string (nullable = true)\n |-- Principal_Investigator_5_License_State_code3: string (nullable = true)\n |-- Principal_Investigator_5_License_State_code4: string (nullable = true)\n |-- Principal_Investigator_5_License_State_code5: long (nullable = true)\n |-- Submitting_Applicable_Manufacturer_or_Applicable_GPO_Name: string (nullable = true)\n |-- Applicable_Manufacturer_or_Applicable_GPO_Making_Payment_ID: string (nullable = true)\n |-- Applicable_Manufacturer_or_Applicable_GPO_Making_Payment_Name: string (nullable = true)\n |-- Applicable_Manufacturer_or_Applicable_GPO_Making_Payment_State: string (nullable = true)\n |-- Applicable_Manufacturer_or_Applicable_GPO_Making_Payment_Country: string (nullable = true)\n |-- Related_Product_Indicator: string (nullable = true)\n |-- Covered_or_Noncovered_Indicator_1: string (nullable = true)\n |-- Indicate_Drug_or_Biological_or_Device_or_Medical_Supply_1: string (nullable = true)\n |-- Product_Category_or_Therapeutic_Area_1: string (nullable = true)\n |-- Name_of_Drug_or_Biological_or_Device_or_Medical_Supply_1: string (nullable = true)\n |-- Associated_Drug_or_Biological_NDC_1: string (nullable = true)\n |-- Associated_Device_or_Medical_Supply_PDI_1: string (nullable = true)\n |-- Covered_or_Noncovered_Indicator_2: string (nullable = true)\n |-- Indicate_Drug_or_Biological_or_Device_or_Medical_Supply_2: string (nullable = true)\n |-- Product_Category_or_Therapeutic_Area_2: string (nullable = true)\n |-- Name_of_Drug_or_Biological_or_Device_or_Medical_Supply_2: string (nullable = true)\n |-- Associated_Drug_or_Biological_NDC_2: string (nullable = true)\n |-- Associated_Device_or_Medical_Supply_PDI_2: string (nullable = true)\n |-- Covered_or_Noncovered_Indicator_3: string (nullable = true)\n |-- Indicate_Drug_or_Biological_or_Device_or_Medical_Supply_3: string (nullable = true)\n |-- Product_Category_or_Therapeutic_Area_3: string (nullable = true)\n |-- Name_of_Drug_or_Biological_or_Device_or_Medical_Supply_3: string (nullable = true)\n |-- Associated_Drug_or_Biological_NDC_3: string (nullable = true)\n |-- Associated_Device_or_Medical_Supply_PDI_3: string (nullable = true)\n |-- Covered_or_Noncovered_Indicator_4: string (nullable = true)\n |-- Indicate_Drug_or_Biological_or_Device_or_Medical_Supply_4: string (nullable = true)\n |-- Product_Category_or_Therapeutic_Area_4: string (nullable = true)\n |-- Name_of_Drug_or_Biological_or_Device_or_Medical_Supply_4: string (nullable = true)\n |-- Associated_Drug_or_Biological_NDC_4: string (nullable = true)\n |-- Associated_Device_or_Medical_Supply_PDI_4: long (nullable = true)\n |-- Covered_or_Noncovered_Indicator_5: string (nullable = true)\n |-- Indicate_Drug_or_Biological_or_Device_or_Medical_Supply_5: string (nullable = true)\n |-- Product_Category_or_Therapeutic_Area_5: string (nullable = true)\n |-- Name_of_Drug_or_Biological_or_Device_or_Medical_Supply_5: string (nullable = true)\n |-- Associated_Drug_or_Biological_NDC_5: string (nullable = true)\n |-- Associated_Device_or_Medical_Supply_PDI_5: string (nullable = true)\n |-- Total_Amount_of_Payment_USDollars: string (nullable = true)\n |-- Date_of_Payment: string (nullable = true)\n |-- Form_of_Payment_or_Transfer_of_Value: string (nullable = true)\n |-- Expenditure_Category1: string (nullable = true)\n |-- Expenditure_Category2: string (nullable = true)\n |-- Expenditure_Category3: string (nullable = true)\n |-- Expenditure_Category4: string (nullable = true)\n |-- Expenditure_Category5: string (nullable = true)\n |-- Expenditure_Category6: string (nullable = true)\n |-- Preclinical_Research_Indicator: string (nullable = true)\n |-- Delay_in_Publication_Indicator: string (nullable = true)\n |-- Name_of_Study: string (nullable = true)\n |-- Dispute_Status_for_Publication: string (nullable = true)\n |-- Record_ID: string (nullable = true)\n |-- Program_Year: string (nullable = true)\n |-- Payment_Publication_Date: string (nullable = true)\n |-- ClinicalTrials_Gov_Identifier: string (nullable = true)\n |-- Research_Information_Link: string (nullable = true)\n |-- Context_of_Research: string (nullable = true)\n\nroot\n |-- Covered_Recipient_Profile_Type: string (nullable = true)\n |-- Covered_Recipient_Profile_ID: integer (nullable = true)\n |-- Associated_Covered_Recipient_Profile_ID_1: string (nullable = true)\n |-- Associated_Covered_Recipient_Profile_ID_2: string (nullable = true)\n |-- Covered_Recipient_NPI: integer (nullable = true)\n |-- Covered_Recipient_Profile_First_Name: string (nullable = true)\n |-- Covered_Recipient_Profile_Middle_Name: string (nullable = true)\n |-- Covered_Recipient_Profile_Last_Name: string (nullable = true)\n |-- Covered_Recipient_Profile_Suffix: string (nullable = true)\n |-- Covered_Recipient_Profile_Alternate_First_Name: string (nullable = true)\n |-- Covered_Recipient_Profile_Alternate_Middle_Name: string (nullable = true)\n |-- Covered_Recipient_Profile_Alternate_Last_Name: string (nullable = true)\n |-- Covered_Recipient_Profile_Alternate_Suffix: string (nullable = true)\n |-- Covered_Recipient_Profile_Address_Line_1: string (nullable = true)\n |-- Covered_Recipient_Profile_Address_Line_2: string (nullable = true)\n |-- Covered_Recipient_Profile_City: string (nullable = true)\n |-- Covered_Recipient_Profile_State: string (nullable = true)\n |-- Covered_Recipient_Profile_Zipcode: string (nullable = true)\n |-- Covered_Recipient_Profile_Country_Name: string (nullable = true)\n |-- Covered_Recipient_Profile_Province_Name: string (nullable = true)\n |-- Covered_Recipient_Profile_Primary_Specialty: string (nullable = true)\n |-- Covered_Recipient_Profile_OPS_Taxonomy_1: string (nullable = true)\n |-- Covered_Recipient_Profile_OPS_Taxonomy_2: string (nullable = true)\n |-- Covered_Recipient_Profile_OPS_Taxonomy_3: string (nullable = true)\n |-- Covered_Recipient_Profile_OPS_Taxonomy_4: string (nullable = true)\n |-- Covered_Recipient_Profile_OPS_Taxonomy_5: string (nullable = true)\n |-- Covered_Recipient_Profile_OPS_Taxonomy_6: string (nullable = true)\n |-- Covered_Recipient_Profile_License_State_Code_1: string (nullable = true)\n |-- Covered_Recipient_Profile_License_State_Code_2: string (nullable = true)\n |-- Covered_Recipient_Profile_License_State_Code_3: string (nullable = true)\n |-- Covered_Recipient_Profile_License_State_Code_4: string (nullable = true)\n |-- Covered_Recipient_Profile_License_State_Code_5: string (nullable = true)\n\n"
     ]
    }
   ],
   "source": [
    "from pyspark.sql import SparkSession\n",
    "from pyspark.sql.functions import *\n",
    "from pyspark.sql.types import *\n",
    "\n",
    "# Load the datasets\n",
    "payments_file = \"dbfs:/FileStore/tables/OP_DTL_RSRCH_PGYR2023_P01302025_01212025.csv\"\n",
    "recipient_file = \"dbfs:/FileStore/tables/OP_CVRD_RCPNT_PRFL_SPLMTL_P01302025_01212025.csv\"\n",
    "ownership_file = \"dbfs:/FileStore/tables/OP_DTL_OWNRSHP_PGYR2023_P01302025_01212025.csv\"\n",
    "\n",
    "# Read the payments data\n",
    "payments_df = spark.read.option(\"header\", \"true\").option(\"inferSchema\", \"true\").csv(payments_file)\n",
    "\n",
    "# Read the physicians profile data\n",
    "physicians_df = spark.read.option(\"header\", \"true\").option(\"inferSchema\", \"true\").csv(recipient_file)\n",
    "\n",
    "# Read the ownership data\n",
    "ownership_df = spark.read.option(\"header\", \"true\").option(\"inferSchema\", \"true\").csv(ownership_file)\n",
    "\n",
    "# Display schema to understand the data\n",
    "payments_df.printSchema()\n",
    "physicians_df.printSchema()"
   ]
  },
  {
   "cell_type": "code",
   "execution_count": 0,
   "metadata": {
    "application/vnd.databricks.v1+cell": {
     "cellMetadata": {
      "byteLimit": 2048000,
      "rowLimit": 10000
     },
     "inputWidgets": {},
     "nuid": "955a1332-29e1-4cde-9d13-4afb9106225d",
     "showTitle": false,
     "tableResultSettingsMap": {},
     "title": ""
    }
   },
   "outputs": [
    {
     "output_type": "display_data",
     "data": {
      "text/html": [
       "<style scoped>\n",
       "  .table-result-container {\n",
       "    max-height: 300px;\n",
       "    overflow: auto;\n",
       "  }\n",
       "  table, th, td {\n",
       "    border: 1px solid black;\n",
       "    border-collapse: collapse;\n",
       "  }\n",
       "  th, td {\n",
       "    padding: 5px;\n",
       "  }\n",
       "  th {\n",
       "    text-align: left;\n",
       "  }\n",
       "</style><div class='table-result-container'><table class='table-result'><thead style='background-color: white'><tr><th>Form_of_Payment_or_Transfer_of_Value</th><th>count</th></tr></thead><tbody><tr><td>Cash or cash equivalent</td><td>421998</td></tr><tr><td>In-kind items and services</td><td>24323</td></tr><tr><td>Stock, stock option, or any other ownership interest</td><td>3</td></tr></tbody></table></div>"
      ]
     },
     "metadata": {
      "application/vnd.databricks.v1+output": {
       "addedWidgets": {},
       "aggData": [],
       "aggError": "",
       "aggOverflow": false,
       "aggSchema": [],
       "aggSeriesLimitReached": false,
       "aggType": "",
       "arguments": {},
       "columnCustomDisplayInfos": {},
       "data": [
        [
         "Cash or cash equivalent",
         421998
        ],
        [
         "In-kind items and services",
         24323
        ],
        [
         "Stock, stock option, or any other ownership interest",
         3
        ]
       ],
       "datasetInfos": [],
       "dbfsResultPath": null,
       "isJsonSchema": true,
       "metadata": {},
       "overflow": false,
       "plotOptions": {
        "customPlotOptions": {},
        "displayType": "table",
        "pivotAggregation": null,
        "pivotColumns": null,
        "xColumns": null,
        "yColumns": null
       },
       "removedWidgets": [],
       "schema": [
        {
         "metadata": "{}",
         "name": "Form_of_Payment_or_Transfer_of_Value",
         "type": "\"string\""
        },
        {
         "metadata": "{}",
         "name": "count",
         "type": "\"long\""
        }
       ],
       "type": "table"
      }
     },
     "output_type": "display_data"
    }
   ],
   "source": [
    "# Convert the amount to double to ensure proper comparison\n",
    "payments_df = payments_df.withColumn(\"Total_Amount_of_Payment_USDollars\", \n",
    "                                   col(\"Total_Amount_of_Payment_USDollars\").cast(\"double\"))\n",
    "\n",
    "nature_payment_gt_1000 = payments_df.filter(col(\"Total_Amount_of_Payment_USDollars\") > 1000) \\\n",
    "    .groupBy(\"Form_of_Payment_or_Transfer_of_Value\") \\\n",
    "    .agg(count(\"*\").alias(\"count\")) \\\n",
    "    .orderBy(\"count\", ascending=False)\n",
    "\n",
    "display(nature_payment_gt_1000)"
   ]
  },
  {
   "cell_type": "code",
   "execution_count": 0,
   "metadata": {
    "application/vnd.databricks.v1+cell": {
     "cellMetadata": {
      "byteLimit": 2048000,
      "rowLimit": 10000
     },
     "inputWidgets": {},
     "nuid": "0d63b197-7d2d-4cab-bc50-eb6508d2e508",
     "showTitle": false,
     "tableResultSettingsMap": {},
     "title": ""
    }
   },
   "outputs": [
    {
     "output_type": "display_data",
     "data": {
      "text/html": [
       "<style scoped>\n",
       "  .table-result-container {\n",
       "    max-height: 300px;\n",
       "    overflow: auto;\n",
       "  }\n",
       "  table, th, td {\n",
       "    border: 1px solid black;\n",
       "    border-collapse: collapse;\n",
       "  }\n",
       "  th, td {\n",
       "    padding: 5px;\n",
       "  }\n",
       "  th {\n",
       "    text-align: left;\n",
       "  }\n",
       "</style><div class='table-result-container'><table class='table-result'><thead style='background-color: white'><tr><th>Form_of_Payment_or_Transfer_of_Value</th><th>count</th></tr></thead><tbody><tr><td>Cash or cash equivalent</td><td>871107</td></tr><tr><td>In-kind items and services</td><td>156809</td></tr><tr><td>null</td><td>358</td></tr><tr><td>2023</td><td>6</td></tr><tr><td>Stock, stock option, or any other ownership interest</td><td>3</td></tr></tbody></table></div>"
      ]
     },
     "metadata": {
      "application/vnd.databricks.v1+output": {
       "addedWidgets": {},
       "aggData": [],
       "aggError": "",
       "aggOverflow": false,
       "aggSchema": [],
       "aggSeriesLimitReached": false,
       "aggType": "",
       "arguments": {},
       "columnCustomDisplayInfos": {},
       "data": [
        [
         "Cash or cash equivalent",
         871107
        ],
        [
         "In-kind items and services",
         156809
        ],
        [
         null,
         358
        ],
        [
         "2023",
         6
        ],
        [
         "Stock, stock option, or any other ownership interest",
         3
        ]
       ],
       "datasetInfos": [],
       "dbfsResultPath": null,
       "isJsonSchema": true,
       "metadata": {},
       "overflow": false,
       "plotOptions": {
        "customPlotOptions": {},
        "displayType": "table",
        "pivotAggregation": null,
        "pivotColumns": null,
        "xColumns": null,
        "yColumns": null
       },
       "removedWidgets": [],
       "schema": [
        {
         "metadata": "{}",
         "name": "Form_of_Payment_or_Transfer_of_Value",
         "type": "\"string\""
        },
        {
         "metadata": "{}",
         "name": "count",
         "type": "\"long\""
        }
       ],
       "type": "table"
      }
     },
     "output_type": "display_data"
    }
   ],
   "source": [
    "top_10_nature_by_count = payments_df.groupBy(\"Form_of_Payment_or_Transfer_of_Value\") \\\n",
    "    .agg(count(\"*\").alias(\"count\")) \\\n",
    "    .orderBy(\"count\", ascending=False) \\\n",
    "    .limit(10)\n",
    "\n",
    "display(top_10_nature_by_count)"
   ]
  },
  {
   "cell_type": "code",
   "execution_count": 0,
   "metadata": {
    "application/vnd.databricks.v1+cell": {
     "cellMetadata": {
      "byteLimit": 2048000,
      "rowLimit": 10000
     },
     "inputWidgets": {},
     "nuid": "c2a8b710-9d66-4117-a269-6a95e9dc3019",
     "showTitle": false,
     "tableResultSettingsMap": {},
     "title": ""
    }
   },
   "outputs": [
    {
     "output_type": "display_data",
     "data": {
      "text/html": [
       "<style scoped>\n",
       "  .table-result-container {\n",
       "    max-height: 300px;\n",
       "    overflow: auto;\n",
       "  }\n",
       "  table, th, td {\n",
       "    border: 1px solid black;\n",
       "    border-collapse: collapse;\n",
       "  }\n",
       "  th, td {\n",
       "    padding: 5px;\n",
       "  }\n",
       "  th {\n",
       "    text-align: left;\n",
       "  }\n",
       "</style><div class='table-result-container'><table class='table-result'><thead style='background-color: white'><tr><th>Form_of_Payment_or_Transfer_of_Value</th><th>total_amount</th></tr></thead><tbody><tr><td>Cash or cash equivalent</td><td>6.425417513020019E9</td></tr><tr><td>In-kind items and services</td><td>1.646168272299991E9</td></tr><tr><td>Stock, stock option, or any other ownership interest</td><td>38562.479999999996</td></tr><tr><td>null</td><td>null</td></tr><tr><td>2023</td><td>null</td></tr></tbody></table></div>"
      ]
     },
     "metadata": {
      "application/vnd.databricks.v1+output": {
       "addedWidgets": {},
       "aggData": [],
       "aggError": "",
       "aggOverflow": false,
       "aggSchema": [],
       "aggSeriesLimitReached": false,
       "aggType": "",
       "arguments": {},
       "columnCustomDisplayInfos": {},
       "data": [
        [
         "Cash or cash equivalent",
         6.425417513020019E9
        ],
        [
         "In-kind items and services",
         1.646168272299991E9
        ],
        [
         "Stock, stock option, or any other ownership interest",
         38562.479999999996
        ],
        [
         null,
         null
        ],
        [
         "2023",
         null
        ]
       ],
       "datasetInfos": [],
       "dbfsResultPath": null,
       "isJsonSchema": true,
       "metadata": {},
       "overflow": false,
       "plotOptions": {
        "customPlotOptions": {},
        "displayType": "table",
        "pivotAggregation": null,
        "pivotColumns": null,
        "xColumns": null,
        "yColumns": null
       },
       "removedWidgets": [],
       "schema": [
        {
         "metadata": "{}",
         "name": "Form_of_Payment_or_Transfer_of_Value",
         "type": "\"string\""
        },
        {
         "metadata": "{}",
         "name": "total_amount",
         "type": "\"double\""
        }
       ],
       "type": "table"
      }
     },
     "output_type": "display_data"
    }
   ],
   "source": [
    "top_10_nature_by_amount = payments_df.withColumn(\"Total_Amount_of_Payment_USDollars\", \n",
    "                                               col(\"Total_Amount_of_Payment_USDollars\").cast(\"double\")) \\\n",
    "    .groupBy(\"Form_of_Payment_or_Transfer_of_Value\") \\\n",
    "    .agg(sum(\"Total_Amount_of_Payment_USDollars\").alias(\"total_amount\")) \\\n",
    "    .orderBy(\"total_amount\", ascending=False) \\\n",
    "    .limit(10)\n",
    "\n",
    "display(top_10_nature_by_amount)"
   ]
  },
  {
   "cell_type": "code",
   "execution_count": 0,
   "metadata": {
    "application/vnd.databricks.v1+cell": {
     "cellMetadata": {
      "byteLimit": 2048000,
      "rowLimit": 10000
     },
     "inputWidgets": {},
     "nuid": "eb1e88d0-0a07-4067-8173-6b6e04147435",
     "showTitle": false,
     "tableResultSettingsMap": {},
     "title": ""
    }
   },
   "outputs": [
    {
     "output_type": "display_data",
     "data": {
      "text/html": [
       "<style scoped>\n",
       "  .table-result-container {\n",
       "    max-height: 300px;\n",
       "    overflow: auto;\n",
       "  }\n",
       "  table, th, td {\n",
       "    border: 1px solid black;\n",
       "    border-collapse: collapse;\n",
       "  }\n",
       "  th, td {\n",
       "    padding: 5px;\n",
       "  }\n",
       "  th {\n",
       "    text-align: left;\n",
       "  }\n",
       "</style><div class='table-result-container'><table class='table-result'><thead style='background-color: white'><tr><th>Covered_Recipient_Profile_Primary_Specialty</th><th>total_amount</th></tr></thead><tbody><tr><td>Allopathic & Osteopathic Physicians|Radiology|Diagnostic Radiology</td><td>6455814.080000001</td></tr><tr><td>Allopathic & Osteopathic Physicians|Psychiatry & Neurology|Neurology</td><td>4568966.959999999</td></tr><tr><td>Allopathic & Osteopathic Physicians|Internal Medicine|Hematology & Oncology</td><td>4088892.719999998</td></tr><tr><td>Allopathic & Osteopathic Physicians|Ophthalmology</td><td>3911043.819999999</td></tr><tr><td>null</td><td>3728113.1099999994</td></tr><tr><td>Allopathic & Osteopathic Physicians|Psychiatry & Neurology|Psychiatry</td><td>3713079.490000001</td></tr><tr><td>Allopathic & Osteopathic Physicians|Internal Medicine</td><td>3612870.480000001</td></tr><tr><td>Allopathic & Osteopathic Physicians|Dermatology</td><td>2939528.539999999</td></tr><tr><td>Allopathic & Osteopathic Physicians|Internal Medicine|Medical Oncology</td><td>2197938.3699999996</td></tr><tr><td>Allopathic & Osteopathic Physicians|Internal Medicine|Cardiovascular Disease</td><td>2161473.6999999997</td></tr></tbody></table></div>"
      ]
     },
     "metadata": {
      "application/vnd.databricks.v1+output": {
       "addedWidgets": {},
       "aggData": [],
       "aggError": "",
       "aggOverflow": false,
       "aggSchema": [],
       "aggSeriesLimitReached": false,
       "aggType": "",
       "arguments": {},
       "columnCustomDisplayInfos": {},
       "data": [
        [
         "Allopathic & Osteopathic Physicians|Radiology|Diagnostic Radiology",
         6455814.080000001
        ],
        [
         "Allopathic & Osteopathic Physicians|Psychiatry & Neurology|Neurology",
         4568966.959999999
        ],
        [
         "Allopathic & Osteopathic Physicians|Internal Medicine|Hematology & Oncology",
         4088892.719999998
        ],
        [
         "Allopathic & Osteopathic Physicians|Ophthalmology",
         3911043.819999999
        ],
        [
         null,
         3728113.1099999994
        ],
        [
         "Allopathic & Osteopathic Physicians|Psychiatry & Neurology|Psychiatry",
         3713079.490000001
        ],
        [
         "Allopathic & Osteopathic Physicians|Internal Medicine",
         3612870.480000001
        ],
        [
         "Allopathic & Osteopathic Physicians|Dermatology",
         2939528.539999999
        ],
        [
         "Allopathic & Osteopathic Physicians|Internal Medicine|Medical Oncology",
         2197938.3699999996
        ],
        [
         "Allopathic & Osteopathic Physicians|Internal Medicine|Cardiovascular Disease",
         2161473.6999999997
        ]
       ],
       "datasetInfos": [],
       "dbfsResultPath": null,
       "isJsonSchema": true,
       "metadata": {},
       "overflow": false,
       "plotOptions": {
        "customPlotOptions": {},
        "displayType": "table",
        "pivotAggregation": null,
        "pivotColumns": null,
        "xColumns": null,
        "yColumns": null
       },
       "removedWidgets": [],
       "schema": [
        {
         "metadata": "{}",
         "name": "Covered_Recipient_Profile_Primary_Specialty",
         "type": "\"string\""
        },
        {
         "metadata": "{}",
         "name": "total_amount",
         "type": "\"double\""
        }
       ],
       "type": "table"
      }
     },
     "output_type": "display_data"
    }
   ],
   "source": [
    "# Join the payments dataframe with physicians dataframe\n",
    "payment_physician_df = payments_df.withColumn(\"Total_Amount_of_Payment_USDollars\", \n",
    "                                             col(\"Total_Amount_of_Payment_USDollars\").cast(\"double\")) \\\n",
    "    .join(\n",
    "        physicians_df,\n",
    "        payments_df[\"Covered_Recipient_Profile_ID\"] == physicians_df[\"Covered_Recipient_Profile_ID\"],\n",
    "        \"inner\"\n",
    "    )\n",
    "\n",
    "# Get top 10 specialties by amount\n",
    "top_10_specialties = payment_physician_df.groupBy(\"Covered_Recipient_Profile_Primary_Specialty\") \\\n",
    "    .agg(sum(\"Total_Amount_of_Payment_USDollars\").alias(\"total_amount\")) \\\n",
    "    .orderBy(\"total_amount\", ascending=False) \\\n",
    "    .limit(10)\n",
    "\n",
    "display(top_10_specialties)"
   ]
  },
  {
   "cell_type": "code",
   "execution_count": 0,
   "metadata": {
    "application/vnd.databricks.v1+cell": {
     "cellMetadata": {
      "byteLimit": 2048000,
      "rowLimit": 10000
     },
     "inputWidgets": {},
     "nuid": "ef186902-affe-4942-9adb-4ad402fb7eb8",
     "showTitle": false,
     "tableResultSettingsMap": {},
     "title": ""
    }
   },
   "outputs": [
    {
     "output_type": "display_data",
     "data": {
      "text/html": [
       "<style scoped>\n",
       "  .table-result-container {\n",
       "    max-height: 300px;\n",
       "    overflow: auto;\n",
       "  }\n",
       "  table, th, td {\n",
       "    border: 1px solid black;\n",
       "    border-collapse: collapse;\n",
       "  }\n",
       "  th, td {\n",
       "    padding: 5px;\n",
       "  }\n",
       "  th {\n",
       "    text-align: left;\n",
       "  }\n",
       "</style><div class='table-result-container'><table class='table-result'><thead style='background-color: white'><tr><th>Physician_Full_Name</th><th>Covered_Recipient_Profile_ID</th><th>total_amount</th><th>specialty</th></tr></thead><tbody><tr><td>MARTIN I SCHUSTER</td><td>565647</td><td>1247560.3900000001</td><td>Allopathic & Osteopathic Physicians|Psychiatry & Neurology|Psychiatry</td></tr><tr><td>RAJAN AGARWAL</td><td>701937</td><td>822379.5</td><td>Allopathic & Osteopathic Physicians|Radiology|Diagnostic Radiology</td></tr><tr><td>DAVID F SCOTT</td><td>49989</td><td>683830.05</td><td>Allopathic & Osteopathic Physicians|Orthopaedic Surgery|Adult Reconstructive Orthopaedic Surgery</td></tr><tr><td>DERK D PURCELL</td><td>708599</td><td>651062.0</td><td>Allopathic & Osteopathic Physicians|Radiology|Diagnostic Radiology</td></tr><tr><td>DONALD JOAQUIN GARCIA</td><td>85984</td><td>646130.24</td><td>Allopathic & Osteopathic Physicians|Psychiatry & Neurology|Psychiatry</td></tr><tr><td>SIBYL E WRAY</td><td>357387</td><td>604756.4999999999</td><td>Allopathic & Osteopathic Physicians|Psychiatry & Neurology|Neurology</td></tr><tr><td>HESSAM AAZAMI</td><td>143141</td><td>573234.9899999999</td><td>Allopathic & Osteopathic Physicians|General Practice</td></tr><tr><td>JORGE J CASTILLO</td><td>31442</td><td>521252.79</td><td>Allopathic & Osteopathic Physicians|Internal Medicine|Hematology & Oncology</td></tr><tr><td>CYNTHIA A BEHLING</td><td>139195</td><td>489970.0</td><td>Allopathic & Osteopathic Physicians|Pathology|Anatomic Pathology & Clinical Pathology</td></tr><tr><td>JEROME A BARAKOS</td><td>960512</td><td>477800.0</td><td>Allopathic & Osteopathic Physicians|Radiology|Diagnostic Radiology</td></tr></tbody></table></div>"
      ]
     },
     "metadata": {
      "application/vnd.databricks.v1+output": {
       "addedWidgets": {},
       "aggData": [],
       "aggError": "",
       "aggOverflow": false,
       "aggSchema": [],
       "aggSeriesLimitReached": false,
       "aggType": "",
       "arguments": {},
       "columnCustomDisplayInfos": {},
       "data": [
        [
         "MARTIN I SCHUSTER",
         565647,
         1247560.3900000001,
         "Allopathic & Osteopathic Physicians|Psychiatry & Neurology|Psychiatry"
        ],
        [
         "RAJAN AGARWAL",
         701937,
         822379.5,
         "Allopathic & Osteopathic Physicians|Radiology|Diagnostic Radiology"
        ],
        [
         "DAVID F SCOTT",
         49989,
         683830.05,
         "Allopathic & Osteopathic Physicians|Orthopaedic Surgery|Adult Reconstructive Orthopaedic Surgery"
        ],
        [
         "DERK D PURCELL",
         708599,
         651062.0,
         "Allopathic & Osteopathic Physicians|Radiology|Diagnostic Radiology"
        ],
        [
         "DONALD JOAQUIN GARCIA",
         85984,
         646130.24,
         "Allopathic & Osteopathic Physicians|Psychiatry & Neurology|Psychiatry"
        ],
        [
         "SIBYL E WRAY",
         357387,
         604756.4999999999,
         "Allopathic & Osteopathic Physicians|Psychiatry & Neurology|Neurology"
        ],
        [
         "HESSAM AAZAMI",
         143141,
         573234.9899999999,
         "Allopathic & Osteopathic Physicians|General Practice"
        ],
        [
         "JORGE J CASTILLO",
         31442,
         521252.79,
         "Allopathic & Osteopathic Physicians|Internal Medicine|Hematology & Oncology"
        ],
        [
         "CYNTHIA A BEHLING",
         139195,
         489970.0,
         "Allopathic & Osteopathic Physicians|Pathology|Anatomic Pathology & Clinical Pathology"
        ],
        [
         "JEROME A BARAKOS",
         960512,
         477800.0,
         "Allopathic & Osteopathic Physicians|Radiology|Diagnostic Radiology"
        ]
       ],
       "datasetInfos": [],
       "dbfsResultPath": null,
       "isJsonSchema": true,
       "metadata": {},
       "overflow": false,
       "plotOptions": {
        "customPlotOptions": {},
        "displayType": "table",
        "pivotAggregation": null,
        "pivotColumns": null,
        "xColumns": null,
        "yColumns": null
       },
       "removedWidgets": [],
       "schema": [
        {
         "metadata": "{}",
         "name": "Physician_Full_Name",
         "type": "\"string\""
        },
        {
         "metadata": "{}",
         "name": "Covered_Recipient_Profile_ID",
         "type": "\"integer\""
        },
        {
         "metadata": "{}",
         "name": "total_amount",
         "type": "\"double\""
        },
        {
         "metadata": "{}",
         "name": "specialty",
         "type": "\"string\""
        }
       ],
       "type": "table"
      }
     },
     "output_type": "display_data"
    }
   ],
   "source": [
    "# Alternative approach with aliases\n",
    "payments_alias = payments_df.withColumn(\"Total_Amount_of_Payment_USDollars\", \n",
    "                                      col(\"Total_Amount_of_Payment_USDollars\").cast(\"double\")).alias(\"payments\")\n",
    "physicians_alias = physicians_df.alias(\"physicians\")\n",
    "\n",
    "# Join with aliases\n",
    "payment_physician_df = payments_alias.join(\n",
    "    physicians_alias,\n",
    "    col(\"payments.Covered_Recipient_Profile_ID\") == col(\"physicians.Covered_Recipient_Profile_ID\"),\n",
    "    \"inner\"\n",
    ")\n",
    "\n",
    "# Create a full name column\n",
    "payment_physician_df = payment_physician_df.withColumn(\n",
    "    \"Physician_Full_Name\", \n",
    "    concat_ws(\" \", \n",
    "              col(\"physicians.Covered_Recipient_Profile_First_Name\"), \n",
    "              col(\"physicians.Covered_Recipient_Profile_Middle_Name\"), \n",
    "              col(\"physicians.Covered_Recipient_Profile_Last_Name\"))\n",
    ")\n",
    "\n",
    "# Get top 10 physicians by amount\n",
    "top_10_physicians = payment_physician_df.groupBy(\n",
    "    \"Physician_Full_Name\", \n",
    "    col(\"physicians.Covered_Recipient_Profile_ID\")\n",
    ") \\\n",
    ".agg(\n",
    "    sum(col(\"payments.Total_Amount_of_Payment_USDollars\")).alias(\"total_amount\"),\n",
    "    first(col(\"physicians.Covered_Recipient_Profile_Primary_Specialty\")).alias(\"specialty\")\n",
    ") \\\n",
    ".orderBy(\"total_amount\", ascending=False) \\\n",
    ".limit(10)\n",
    "\n",
    "display(top_10_physicians)"
   ]
  }
 ],
 "metadata": {
  "application/vnd.databricks.v1+notebook": {
   "computePreferences": null,
   "dashboards": [],
   "environmentMetadata": {
    "base_environment": "",
    "client": "1"
   },
   "language": "python",
   "notebookMetadata": {
    "pythonIndentUnit": 4
   },
   "notebookName": "Week7",
   "widgets": {}
  }
 },
 "nbformat": 4,
 "nbformat_minor": 0
}
